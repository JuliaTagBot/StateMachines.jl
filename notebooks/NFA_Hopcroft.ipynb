{
 "cells": [
  {
   "cell_type": "markdown",
   "metadata": {},
   "source": [
    "## NFA, accepting all strings that end in 01\n",
    "\n",
    "The template is from Hopcroft et. al.: Introduction to Automata Theory, Languages and Computation, chapter 2.3.1, example 2.6. We examine Julia's multiple dispatch feature on application to state machines, in this case to a NFA."
   ]
  },
  {
   "cell_type": "markdown",
   "metadata": {},
   "source": [
    "Hopcroft's example automaton has three single states $q_0, q_1, q_2$. Since an NFA is nondeterministic, its transition functions return sets of states, e.g. $\\{q_0\\}, \\{q_0, q_1\\} \\dotsc$.\n",
    "\n",
    "1. We define a fallback transition function $\\delta_0$, which returns an empty set $\\emptyset$.\n",
    "2. Then we need three elementary transition functions: $\\delta_1(q_0, 0) = \\{q_0, q_1\\}$, $\\delta_2(q_0, 1) = \\{q_0\\}$ and $\\delta_3(q_1, 1) = \\{q_2\\}$. \n",
    "3. Next we have a dispatching transition function $\\bar{\\delta}$, which takes a set of states and an input $\\sigma$ and – after employing the single transition functions on each state – delivers another set of states. \n",
    "4. Finally we have the extended transition function $\\hat{\\delta}$, taking a word $w$ as input and recursively employing the dispatching transition function on each letter.\n",
    "\n",
    "NB: sets here are implemented as Julia tuples."
   ]
  },
  {
   "cell_type": "code",
   "execution_count": 1,
   "metadata": {},
   "outputs": [
    {
     "data": {
      "text/plain": [
       "δ (generic function with 6 methods)"
      ]
     },
     "execution_count": 1,
     "metadata": {},
     "output_type": "execute_result"
    }
   ],
   "source": [
    "using Base.Iterators\n",
    "@enum State q0 q1 q2\n",
    "\n",
    "δ(::Any, ::Any)   = () \n",
    "\n",
    "δ(::Val{q0},::Val{0}) = (q0,q1)\n",
    "δ(::Val{q0},::Val{1}) = (q0,)\n",
    "δ(::Val{q1},::Val{1}) = (q2,)\n",
    "\n",
    "δ(states::Tuple, σ::Int64) = Tuple(union(flatten( [δ(Val(q),Val(σ)) for q ∈ states] )))\n",
    "\n",
    "δ(states::Tuple,w::Array{Int64}) = length(w) == 1 ? δ(states,w[1]) : δ(δ(states,w[1]),w[2:end]) "
   ]
  },
  {
   "cell_type": "markdown",
   "metadata": {},
   "source": [
    "All those transition functions are named `δ`, and Julia's multiple dispatch chooses between them at runtime according to the parameters: states and inputs.\n",
    "\n",
    "The following is Hopcroft's example for a string of $00101$."
   ]
  },
  {
   "cell_type": "code",
   "execution_count": 2,
   "metadata": {},
   "outputs": [
    {
     "name": "stdout",
     "output_type": "stream",
     "text": [
      "a: (q0, q1)\n",
      "b: (q0, q1)\n",
      "c: (q0, q2)\n",
      "d: (q0, q1)\n",
      "e: (q0, q2)\n"
     ]
    }
   ],
   "source": [
    "a = δ(Val(q0),Val(0)); println(\"a: \", a)\n",
    "b = δ(a,0); println(\"b: \", b)\n",
    "c = δ(b,1); println(\"c: \", c)\n",
    "d = δ(c,0); println(\"d: \", d)\n",
    "e = δ(d,1); println(\"e: \", e)"
   ]
  },
  {
   "cell_type": "code",
   "execution_count": 3,
   "metadata": {},
   "outputs": [
    {
     "data": {
      "text/plain": [
       "(q0, q2)"
      ]
     },
     "execution_count": 3,
     "metadata": {},
     "output_type": "execute_result"
    }
   ],
   "source": [
    "δ((q0,),[0,0,1,0,1])"
   ]
  },
  {
   "cell_type": "markdown",
   "metadata": {},
   "source": [
    "We introduce a `check`-function to determine if `w` is a word accepted by the NFA. Since $q_2$ is the accepting state, the acceptance criterion is $q_2 \\in \\{\\text{set of states}\\}$."
   ]
  },
  {
   "cell_type": "code",
   "execution_count": 4,
   "metadata": {},
   "outputs": [
    {
     "data": {
      "text/plain": [
       "check (generic function with 3 methods)"
      ]
     },
     "execution_count": 4,
     "metadata": {},
     "output_type": "execute_result"
    }
   ],
   "source": [
    "check(w::Array{Int64}) = q2 ∈ δ((q0,), w)\n",
    "check(w::Int64) = check(reverse(digits(w, base=2)))\n",
    "check(w::String) = check([Int64(i)-48 for i ∈ w])"
   ]
  },
  {
   "cell_type": "code",
   "execution_count": 5,
   "metadata": {},
   "outputs": [
    {
     "data": {
      "text/plain": [
       "true"
      ]
     },
     "execution_count": 5,
     "metadata": {},
     "output_type": "execute_result"
    }
   ],
   "source": [
    "check([0,0,1,0,1])"
   ]
  },
  {
   "cell_type": "code",
   "execution_count": 6,
   "metadata": {},
   "outputs": [
    {
     "data": {
      "text/plain": [
       "true"
      ]
     },
     "execution_count": 6,
     "metadata": {},
     "output_type": "execute_result"
    }
   ],
   "source": [
    "check(\"00101\")"
   ]
  },
  {
   "cell_type": "code",
   "execution_count": 7,
   "metadata": {},
   "outputs": [
    {
     "data": {
      "text/plain": [
       "true"
      ]
     },
     "execution_count": 7,
     "metadata": {},
     "output_type": "execute_result"
    }
   ],
   "source": [
    "check(1025)"
   ]
  },
  {
   "cell_type": "code",
   "execution_count": 8,
   "metadata": {},
   "outputs": [
    {
     "data": {
      "text/plain": [
       "false"
      ]
     },
     "execution_count": 8,
     "metadata": {},
     "output_type": "execute_result"
    }
   ],
   "source": [
    "check(1026)"
   ]
  },
  {
   "cell_type": "markdown",
   "metadata": {},
   "source": [
    "Note that alternatively the extended transition function $\\hat{\\delta}$ could be implemented as a \"flat\" version with a `for` loop."
   ]
  },
  {
   "cell_type": "code",
   "execution_count": 9,
   "metadata": {},
   "outputs": [
    {
     "data": {
      "text/plain": [
       "δ (generic function with 6 methods)"
      ]
     },
     "execution_count": 9,
     "metadata": {},
     "output_type": "execute_result"
    }
   ],
   "source": [
    "# extended transition function, flat version\n",
    "function δ(states::Tuple,w::Array{Int64})\n",
    "    for σ ∈ w\n",
    "        states = δ(states,σ)\n",
    "    end\n",
    "    states\n",
    "end"
   ]
  },
  {
   "cell_type": "code",
   "execution_count": 10,
   "metadata": {},
   "outputs": [
    {
     "data": {
      "text/plain": [
       "true"
      ]
     },
     "execution_count": 10,
     "metadata": {},
     "output_type": "execute_result"
    }
   ],
   "source": [
    "check(1025)"
   ]
  },
  {
   "cell_type": "markdown",
   "metadata": {},
   "source": [
    "The whole approach is not yet robust against arbitrary strings since the automaton delivers an empty set $\\emptyset$ if it meets an input other than the allowed $\\{0, 1\\}$. It then has a undefined state."
   ]
  },
  {
   "cell_type": "code",
   "execution_count": 11,
   "metadata": {},
   "outputs": [
    {
     "ename": "ArgumentError",
     "evalue": "ArgumentError: Union{} does not have elements",
     "output_type": "error",
     "traceback": [
      "ArgumentError: Union{} does not have elements",
      "",
      "Stacktrace:",
      " [1] eltype(::Core.TypeofBottom) at ./array.jl:124",
      " [2] eltype(::Type{Base.Iterators.Flatten{Array{Union{},1}}}) at ./iterators.jl:871",
      " [3] eltype(::Base.Iterators.Flatten{Array{Union{},1}}) at ./array.jl:125",
      " [4] promote_eltype(::Base.Iterators.Flatten{Array{Union{},1}}) at ./abstractarray.jl:1268",
      " [5] union(::Base.Iterators.Flatten{Array{Union{},1}}) at ./abstractset.jl:43",
      " [6] δ(::Tuple{}, ::Int64) at ./In[1]:10",
      " [7] δ(::Tuple{State}, ::Array{Int64,1}) at ./In[9]:4",
      " [8] check(::Array{Int64,1}) at ./In[4]:1",
      " [9] check(::String) at ./In[4]:3",
      " [10] top-level scope at In[11]:1"
     ]
    }
   ],
   "source": [
    "check(\"aköjbköjbh01\")"
   ]
  },
  {
   "cell_type": "markdown",
   "metadata": {},
   "source": [
    "## Improving and simplifying\n",
    "\n",
    "For simplicity we can delete the transition function $\\delta_2(q_0, 1) = \\{q_0\\}$ and redefine our fallback transition function as $\\delta_0 = \\{q_0\\}$."
   ]
  },
  {
   "cell_type": "code",
   "execution_count": 12,
   "metadata": {},
   "outputs": [
    {
     "data": {
      "text/plain": [
       "δ (generic function with 5 methods)"
      ]
     },
     "execution_count": 12,
     "metadata": {},
     "output_type": "execute_result"
    }
   ],
   "source": [
    "δ₂ = @which δ(Val(q0),Val(1))\n",
    "Base.delete_method(δ₂)\n",
    "\n",
    "δ(::Any,::Any) = (q0,)"
   ]
  },
  {
   "cell_type": "markdown",
   "metadata": {},
   "source": [
    "Our NFA then has 5 methods (3 for switching states) and returns to its ground state $\\{q0\\}$ for every unexpected input. It runs on arbitrary strings."
   ]
  },
  {
   "cell_type": "code",
   "execution_count": 13,
   "metadata": {},
   "outputs": [
    {
     "data": {
      "text/plain": [
       "true"
      ]
     },
     "execution_count": 13,
     "metadata": {},
     "output_type": "execute_result"
    }
   ],
   "source": [
    "check(\"aköjbköjbh01\")"
   ]
  },
  {
   "cell_type": "code",
   "execution_count": 14,
   "metadata": {},
   "outputs": [
    {
     "data": {
      "text/plain": [
       "false"
      ]
     },
     "execution_count": 14,
     "metadata": {},
     "output_type": "execute_result"
    }
   ],
   "source": [
    "check(\"aköjbköjbh011\")"
   ]
  },
  {
   "cell_type": "markdown",
   "metadata": {},
   "source": [
    "For completeness I give here the definition of the improved NFA $A=(Q,\\Sigma,\\delta,q_0,F)$:\n",
    "\n",
    "1. $\\delta_0 = \\{q_0\\}$, fallback transition function\n",
    "2. $\\delta_1(q_0, 0) = \\{q_0, q_1\\}$ \n",
    "3. $\\delta_2(q_1, 1) = \\{q_2\\}$\n",
    "4. $\\bar{\\delta}(Q_x \\in Q, \\sigma) = Q_y \\in Q$, dispatching transition function working on a set of states.\n",
    "5. $\\hat{\\delta}(Q_x \\in Q, w) = Q_y \\in Q$, extended transition function working on a word.\n",
    "\n",
    "… together with their implementation in Julia:"
   ]
  },
  {
   "cell_type": "code",
   "execution_count": 15,
   "metadata": {},
   "outputs": [
    {
     "data": {
      "text/plain": [
       "δ (generic function with 5 methods)"
      ]
     },
     "execution_count": 15,
     "metadata": {},
     "output_type": "execute_result"
    }
   ],
   "source": [
    "δ(::Any,::Any) = (q0,)\n",
    "δ(::Val{q0},::Val{0}) = (q0,q1)\n",
    "δ(::Val{q1},::Val{1}) = (q2,)\n",
    "δ(states::Tuple, σ::Int64) = Tuple(union(flatten( [δ(Val(q),Val(σ)) for q ∈ states] )))\n",
    "δ(states::Tuple,w::Array{Int64}) = length(w) == 1 ? δ(states,w[1]) : δ(δ(states,w[1]),w[2:end]) "
   ]
  },
  {
   "cell_type": "code",
   "execution_count": null,
   "metadata": {},
   "outputs": [],
   "source": []
  }
 ],
 "metadata": {
  "@webio": {
   "lastCommId": null,
   "lastKernelId": null
  },
  "kernelspec": {
   "display_name": "Julia 1.2.0",
   "language": "julia",
   "name": "julia-1.2"
  },
  "language_info": {
   "file_extension": ".jl",
   "mimetype": "application/julia",
   "name": "julia",
   "version": "1.2.0"
  }
 },
 "nbformat": 4,
 "nbformat_minor": 4
}
